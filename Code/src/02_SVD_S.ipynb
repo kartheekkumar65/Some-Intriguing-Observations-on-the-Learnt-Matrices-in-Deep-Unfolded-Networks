{
 "cells": [
  {
   "cell_type": "code",
   "execution_count": null,
   "metadata": {},
   "outputs": [],
   "source": [
    "import numpy as np\n",
    "import matplotlib.pyplot as plt\n",
    "import scipy.linalg as LA\n",
    "import scipy.io\n",
    "import matplotlib.ticker as ticker"
   ]
  },
  {
   "cell_type": "code",
   "execution_count": null,
   "metadata": {},
   "outputs": [],
   "source": [
    "W = scipy.io.loadmat('../weights/analytic_D_m70_n100.mat')\n",
    "W = np.array(W['X'])\n",
    "\n",
    "D = scipy.io.loadmat('../weights/D_m70_n100.mat')\n",
    "D = np.array(D['D'])\n",
    "\n",
    "m, n = D.shape\n",
    "S_GAP = np.eye(n) - D.T @ LA.inv(D @ D.T) @ D\n",
    "S_ISTA = np.eye(n) - (1 / LA.norm(D.T @ D, 2)) * D.T @ D\n",
    "S_ALISTA = np.eye(n) - W.T @ D\n",
    "\n",
    "S_LISTA_list = np.load(r'../weights/S.npy')\n",
    "S_LISTA = S_LISTA_list[-1]\n",
    "\n",
    "s_matrix_dict = {'ISTA': S_ISTA, 'GAP': S_GAP,\n",
    "                 'ALISTA': S_ALISTA, 'LISTA': S_LISTA}\n",
    "\n",
    "FILE_PATH = '../figures/02_S_SVD/'"
   ]
  },
  {
   "cell_type": "code",
   "execution_count": null,
   "metadata": {},
   "outputs": [],
   "source": [
    "def plot_diracs(tk, ak, ax=None, plot_colour='blue', alpha=1,\n",
    "                line_width=2, marker_style='o', marker_size=4, line_style='-',\n",
    "                legend_show=True, legend_loc='lower left', legend_label=None, ncols=2,\n",
    "                title_text=None, xaxis_label=None, yaxis_label=None, xlimits=[0, 1],\n",
    "                ylimits=[-1, 1], show=False, save=None):\n",
    "    ''' Plots Diracs at tk, ak '''\n",
    "    if ax is None:\n",
    "        fig = plt.figure(figsize=(12, 6))\n",
    "        ax = plt.gca()\n",
    "\n",
    "    markerline, stemlines, baseline = plt.stem(tk, ak, label=legend_label,\n",
    "                                               linefmt=line_style)\n",
    "    plt.setp(stemlines, linewidth=line_width, color=plot_colour, alpha=alpha)\n",
    "    plt.setp(markerline, marker=marker_style, linewidth=line_width, alpha=alpha,\n",
    "             markersize=marker_size, markerfacecolor=plot_colour, mec=plot_colour)\n",
    "    plt.setp(baseline, linewidth=0)\n",
    "\n",
    "    if legend_label and legend_show:\n",
    "        plt.legend(ncol=ncols, loc=legend_loc, frameon=True, framealpha=0.8,\n",
    "                   facecolor='white')\n",
    "\n",
    "    plt.xlim(xlimits)\n",
    "    plt.ylim(ylimits)\n",
    "    plt.xlabel(xaxis_label)\n",
    "    plt.ylabel(yaxis_label)\n",
    "    plt.title(title_text)\n",
    "\n",
    "    ax.yaxis.set_major_formatter(ticker.FormatStrFormatter('%0.1f'))\n",
    "\n",
    "    if save:\n",
    "        plt.savefig(save + '.pdf', format='pdf')\n",
    "\n",
    "    if show:\n",
    "        plt.show()\n",
    "\n",
    "    return"
   ]
  },
  {
   "cell_type": "code",
   "execution_count": null,
   "metadata": {},
   "outputs": [],
   "source": [
    "for title_text, matrix in s_matrix_dict.items():\n",
    "\n",
    "    filename = FILE_PATH + \"S_Matrix_SVD_\" + title_text\n",
    "    sv = LA.svd(matrix, compute_uv=False)\n",
    "    # Prepare tk and ak for the plot_diracs function\n",
    "    tk = np.arange(len(sv))  # Indices of the singular values\n",
    "    ak = sv  # Singular values\n",
    "\n",
    "    # Call your custom plotting function\n",
    "    plot_diracs(tk, ak, plot_colour='blue', alpha=0.7, line_width=2, marker_style='o',\n",
    "                marker_size=8, line_style='-', legend_show=True, legend_loc='upper right',\n",
    "                # legend_label='Singular Values', title_text=f'Singular Value Decomposition of S Matrix ({title_text})',\n",
    "                xaxis_label='Index'.upper(), yaxis_label='Singular Value'.upper(), xlimits=[-1, len(sv)],\n",
    "                ylimits=[0, np.max(sv) * 1.1], show=True, save=filename)"
   ]
  }
 ],
 "metadata": {
  "kernelspec": {
   "display_name": ".venv",
   "language": "python",
   "name": "python3"
  },
  "language_info": {
   "codemirror_mode": {
    "name": "ipython",
    "version": 3
   },
   "file_extension": ".py",
   "mimetype": "text/x-python",
   "name": "python",
   "nbconvert_exporter": "python",
   "pygments_lexer": "ipython3",
   "version": "3.11.7"
  }
 },
 "nbformat": 4,
 "nbformat_minor": 2
}
