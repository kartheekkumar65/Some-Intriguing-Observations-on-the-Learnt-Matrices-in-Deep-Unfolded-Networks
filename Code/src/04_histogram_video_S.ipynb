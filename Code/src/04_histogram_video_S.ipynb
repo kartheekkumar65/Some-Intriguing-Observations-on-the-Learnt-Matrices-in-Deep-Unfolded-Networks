{
 "cells": [
  {
   "cell_type": "code",
   "execution_count": null,
   "metadata": {},
   "outputs": [],
   "source": [
    "import matplotlib.pyplot as plt\n",
    "import seaborn as sns\n",
    "import numpy as np\n",
    "from scipy import stats\n",
    "import imageio\n",
    "import os\n",
    "from tqdm import tqdm\n",
    "import cv2\n",
    "import scienceplots\n",
    "\n",
    "\n",
    "plt.style.use(['science', 'ieee'])\n",
    "plt.rcParams.update({\"font.family\": \"sans\", \"font.serif\": [\n",
    "                    \"cm\"], \"mathtext.fontset\": \"cm\", \"font.size\": 22})"
   ]
  },
  {
   "cell_type": "code",
   "execution_count": null,
   "metadata": {},
   "outputs": [],
   "source": [
    "W_list = np.load(f'./data/W_constant.npy')\n",
    "S_list = np.load(f'./data/S_constant.npy')\n",
    "time_list = np.load('./data/time_list_constant.npy')\n",
    "model = \"constant\"\n",
    "\n",
    "output_dir = './videos/histogram_videos_fps3'\n",
    "os.makedirs(output_dir, exist_ok=True)"
   ]
  },
  {
   "cell_type": "code",
   "execution_count": null,
   "metadata": {},
   "outputs": [],
   "source": [
    "# Determine global min and max for X-axis to ensure consistent plotting\n",
    "xmin = np.min([np.min(s) for s in S_list]) - 0.1\n",
    "xmax = np.max([np.max(s) for s in S_list]) + 0.1\n",
    "\n",
    "\n",
    "filenames = []\n",
    "\n",
    "for i in tqdm(range(len(S_list))):\n",
    "    plt.figure(figsize=(12, 6))\n",
    "    \n",
    "    sns.histplot(S_list[i].reshape(-1), bins=128, kde=False, color='blue', stat='density', linewidth=0)\n",
    "    \n",
    "    mu, std = stats.norm.fit(S_list[i].reshape(-1))\n",
    "    x = np.linspace(xmin, xmax, 100)\n",
    "    p = stats.norm.pdf(x, mu, std)\n",
    "    plt.plot(x, p, 'k', linewidth=1, linestyle='--')\n",
    "    str_epoch = f'{i}'.zfill(2)\n",
    "    str_time =  f'{round(float(time_list[i]), 4):0>8.3f}'\n",
    "    plt.title(f\"Epoch:{str_epoch}, Time:{str_time} seconds\\nFIT RESULTS: $\\mu$ = {mu:.2f}, $\\sigma$ = {std:.2f}\")\n",
    "    plt.xlabel('VALUE')\n",
    "    plt.ylabel('DENSITY')\n",
    "    plt.grid(True)\n",
    "    plt.ylim(0, 17)\n",
    "    \n",
    "    # Save each frame as a temporary PNG file\n",
    "    filename = f'{output_dir}/S_{model}_ep_{i}.png'\n",
    "    plt.savefig(filename)\n",
    "    plt.close()\n",
    "    \n",
    "    filenames.append(filename)\n"
   ]
  },
  {
   "cell_type": "code",
   "execution_count": null,
   "metadata": {},
   "outputs": [],
   "source": [
    "fourcc = cv2.VideoWriter_fourcc(*'mp4v')  # or 'x264' if you have it\n",
    "fps = 3  # Frames per second\n",
    "\n",
    "# Determine the resolution of the video\n",
    "# Read the first image to determine the frame size\n",
    "first_image_path = filenames[0]\n",
    "frame = cv2.imread(first_image_path)\n",
    "height, width, layers = frame.shape\n",
    "frame_size = (width, height)\n",
    "\n",
    "# Initialize the video writer\n",
    "video_filename = f'{output_dir}/S_histograms.mp4'  # Path where the MP4 video will be saved\n",
    "out = cv2.VideoWriter(video_filename, fourcc, fps, frame_size)\n",
    "\n",
    "# Loop through all the filenames and write them to the video\n",
    "for filename in filenames:\n",
    "    frame = cv2.imread(filename)\n",
    "    out.write(frame)  # Write out the frame\n",
    "\n",
    "# Release the video writer\n",
    "out.release()\n",
    "\n",
    "# Return the path to the saved video file\n",
    "video_filename"
   ]
  }
 ],
 "metadata": {
  "kernelspec": {
   "display_name": "diffuser_cam",
   "language": "python",
   "name": "python3"
  },
  "language_info": {
   "codemirror_mode": {
    "name": "ipython",
    "version": 3
   },
   "file_extension": ".py",
   "mimetype": "text/x-python",
   "name": "python",
   "nbconvert_exporter": "python",
   "pygments_lexer": "ipython3",
   "version": "3.12.1"
  }
 },
 "nbformat": 4,
 "nbformat_minor": 2
}
