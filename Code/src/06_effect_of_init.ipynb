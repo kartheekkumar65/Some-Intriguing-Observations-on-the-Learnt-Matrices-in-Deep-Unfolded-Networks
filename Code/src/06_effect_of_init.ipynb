{
 "cells": [
  {
   "cell_type": "code",
   "execution_count": null,
   "metadata": {},
   "outputs": [],
   "source": [
    "import torch\n",
    "import scipy.stats as stats\n",
    "import numpy as np\n",
    "import matplotlib.pyplot as plt\n",
    "import scipy.linalg as LA\n",
    "import scipy.io\n",
    "import seaborn as sns\n",
    "import pandas as pd\n",
    "import scienceplots\n",
    "plt.style.use(['science', 'ieee'])\n",
    "plt.rcParams.update({\"font.family\": \"sans\", \"font.serif\": [\n",
    "                    \"cm\"], \"mathtext.fontset\": \"cm\", \"font.size\": 22})"
   ]
  },
  {
   "cell_type": "code",
   "execution_count": null,
   "metadata": {},
   "outputs": [],
   "source": [
    "# %% compare the losses of LISTA\n",
    "train_loss_list_ISTA = np.load('./data/train_loss_list_ISTA.npy')\n",
    "valid_loss_list_ISTA = np.load('./data/valid_loss_list_ISTA.npy')\n",
    "# TODO: Get the correct time_list_ for ISTA weights\n",
    "time_list_ISTA = np.load('./data/time_list_constant.npy')\n",
    "\n",
    "train_loss_list_gauss = np.load('./data/train_loss_list_gauss.npy')\n",
    "valid_loss_list_gauss = np.load('./data/valid_loss_list_gauss.npy')\n",
    "time_list_gauss = np.load('./data/time_list_gauss.npy')"
   ]
  },
  {
   "cell_type": "code",
   "execution_count": null,
   "metadata": {},
   "outputs": [],
   "source": [
    "train_loss_list_gauss.shape, valid_loss_list_gauss.shape, time_list_gauss.shape"
   ]
  },
  {
   "cell_type": "code",
   "execution_count": null,
   "metadata": {},
   "outputs": [],
   "source": [
    "train_loss_list_ISTA.shape, valid_loss_list_ISTA.shape, time_list_ISTA.shape"
   ]
  },
  {
   "cell_type": "code",
   "execution_count": null,
   "metadata": {},
   "outputs": [],
   "source": [
    "time_list_ISTA[-1], time_list_gauss[-1]"
   ]
  },
  {
   "cell_type": "code",
   "execution_count": null,
   "metadata": {},
   "outputs": [],
   "source": [
    "def plot_losses_combined(time_ISTA, train_loss_ISTA, valid_loss_ISTA,\n",
    "                         time_gauss, train_loss_gauss, valid_loss_gauss,\n",
    "                         filename_name):\n",
    "    # Set up the matplotlib figure\n",
    "    fig, ax = plt.subplots(figsize=(12, 6))\n",
    "\n",
    "    # Plot - Training and Validation Loss for ISTA and Gauss\n",
    "    ax.plot(time_ISTA, np.log10(1 + train_loss_ISTA), '-r^', label='training loss ISTA')\n",
    "    ax.plot(time_ISTA, np.log10(1 + valid_loss_ISTA), '--ro', label='validation loss ISTA')\n",
    "    ax.plot(time_gauss, np.log10(1 + train_loss_gauss), '-b+', label='training loss gauss')\n",
    "    ax.plot(time_gauss, np.log10(1 + valid_loss_gauss), '--bo', label='validation loss gauss')\n",
    "\n",
    "    # Set titles and labels\n",
    "    # ax.set_title('Training and Validation Loss')\n",
    "    ax.set_xlabel('TIME (SECONDS)')\n",
    "    ax.set_ylabel('LOG RECONSTRUCTION LOSS')\n",
    "    ax.legend()\n",
    "    ax.grid(True)\n",
    "\n",
    "    # Adjust the layout and save the figure\n",
    "    plt.tight_layout()\n",
    "    loss_path = filename_name\n",
    "    plt.savefig(loss_path, format='pdf', bbox_inches='tight')\n",
    "    # plt.close(fig)\n",
    "    \n",
    "    return loss_path\n",
    "\n",
    "# Call the function with sample data\n",
    "combined_loss_path = plot_losses_combined(\n",
    "    time_list_ISTA[:20], train_loss_list_ISTA[:20], valid_loss_list_ISTA[:20],\n",
    "    time_list_gauss[:20], train_loss_list_gauss[:20], valid_loss_list_gauss[:20],\n",
    "    './figures/07_convergence/convergence_plot.pdf')\n",
    "\n",
    "# Provide the path for downloading the generated PDF\n",
    "combined_loss_path\n"
   ]
  },
  {
   "cell_type": "code",
   "execution_count": null,
   "metadata": {},
   "outputs": [],
   "source": [
    "def plot_losses_side_by_side(time_ISTA, train_loss_ISTA, valid_loss_ISTA,\n",
    "                             time_gauss, train_loss_gauss, valid_loss_gauss, filename_prefix):\n",
    "    # Set up the matplotlib figure\n",
    "    fig, axs = plt.subplots(1, 2, figsize=(15, 5))\n",
    "\n",
    "    # Left plot - Training Loss\n",
    "    axs[0].plot(time_ISTA, np.log10(1 + train_loss_ISTA), '-r^', label='training loss ISTA')\n",
    "    axs[0].plot(time_gauss, np.log10(1 + train_loss_gauss), '-b+', label='training loss gauss')\n",
    "    axs[0].set_title('Training Loss')\n",
    "    axs[0].set_xlabel('TIME (SECONDS)')\n",
    "    axs[0].set_ylabel('RECONSTRUCTION LOSS')\n",
    "    axs[0].legend()\n",
    "    axs[0].grid(True)\n",
    "\n",
    "    # Right plot - Validation Loss\n",
    "    axs[1].plot(time_ISTA, np.log10(1 + valid_loss_ISTA), '-r^', label='validation loss ISTA')\n",
    "    axs[1].plot(time_gauss, np.log10(1 + valid_loss_gauss), '-b+', label='validation loss gauss')\n",
    "    axs[1].set_title('Validation Loss')\n",
    "    axs[1].set_xlabel('TIME (SECONDS)')\n",
    "    axs[1].set_ylabel('RECONSTRUCTION LOSS')\n",
    "    axs[1].legend()\n",
    "    axs[1].grid(True)\n",
    "\n",
    "    # Adjust the layout and save the figures\n",
    "    plt.tight_layout()\n",
    "    train_loss_path = f'./figures/07_convergence/train_loss.pdf'\n",
    "    valid_loss_path = f'./figures/07_convergence/valid_loss.pdf'\n",
    "    plt.savefig(train_loss_path, format='pdf', bbox_inches='tight')\n",
    "    # plt.close(fig)\n",
    "    \n",
    "    return train_loss_path, valid_loss_path\n",
    "\n",
    "# Call the function with sample data to generate the plots\n",
    "train_loss_path, valid_loss_path = plot_losses_side_by_side(\n",
    "    time_list_ISTA[:20], train_loss_list_ISTA[:20], valid_loss_list_ISTA[:20],\n",
    "    time_list_gauss[:20], train_loss_list_gauss[:20], valid_loss_list_gauss[:20],\n",
    "    'gauss_vs_ISTA')\n",
    "\n",
    "# Provide the paths for downloading the generated PDFs\n",
    "train_loss_path, valid_loss_path\n"
   ]
  }
 ],
 "metadata": {
  "kernelspec": {
   "display_name": ".venv",
   "language": "python",
   "name": "python3"
  },
  "language_info": {
   "codemirror_mode": {
    "name": "ipython",
    "version": 3
   },
   "file_extension": ".py",
   "mimetype": "text/x-python",
   "name": "python",
   "nbconvert_exporter": "python",
   "pygments_lexer": "ipython3",
   "version": "3.9.12"
  }
 },
 "nbformat": 4,
 "nbformat_minor": 2
}
