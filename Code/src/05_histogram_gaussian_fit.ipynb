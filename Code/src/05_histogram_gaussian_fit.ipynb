{
 "cells": [
  {
   "cell_type": "code",
   "execution_count": null,
   "metadata": {},
   "outputs": [],
   "source": [
    "import scipy.stats as stats\n",
    "import numpy as np\n",
    "import matplotlib.pyplot as plt\n",
    "import seaborn as sns\n",
    "import scienceplots\n",
    "plt.style.use(['science', 'ieee'])\n",
    "plt.rcParams.update({\"font.family\": \"sans\", \"font.serif\": [\n",
    "                    \"cm\"], \"mathtext.fontset\": \"cm\", \"font.size\": 22})"
   ]
  },
  {
   "cell_type": "code",
   "execution_count": null,
   "metadata": {},
   "outputs": [],
   "source": [
    "S_list_constant = np.load(f'./data/S_constant.npy')\n",
    "W_list_constant = np.load(f'./data/W_constant.npy')\n",
    "data_S_last_epoch = S_list_constant[-1].flatten() \n",
    "data_W_last_epoch = W_list_constant[-1].flatten() \n",
    "\n",
    "# File paths for the PDFs\n",
    "s_matrix_pdf_path = './figures/06_histogram_gaussian_fit/S_Matrix_Histogram_Gaussian_Fit_LISTA.pdf'\n",
    "w_matrix_pdf_path = './figures/06_histogram_gaussian_fit/W_Matrix_Histogram_Gaussian_Fit_LISTA.pdf'"
   ]
  },
  {
   "cell_type": "code",
   "execution_count": null,
   "metadata": {},
   "outputs": [],
   "source": [
    "def plot_histogram_gaussian_save(data, title, color='blue', filename='./figures/06_histogram_gaussian_fit/gaussian_fit.pdf'):\n",
    "    plt.figure(figsize=(12, 6))\n",
    "    \n",
    "    # Plot the histogram\n",
    "    sns.histplot(data, bins=120, kde=False, color=color, stat='density', antialiased=True, linewidth=0)\n",
    "    \n",
    "    # Fit a Gaussian distribution to the data\n",
    "    mu, std = stats.norm.fit(data)\n",
    "    \n",
    "    # Plot the Gaussian fit\n",
    "    xmin, xmax = plt.xlim()\n",
    "    x = np.linspace(xmin, xmax, 100)\n",
    "    p = stats.norm.pdf(x, mu, std)\n",
    "    plt.plot(x, p, 'k', linewidth=1, linestyle='--',antialiased=True)\n",
    "    plt.title(r\"FIT RESULTS: $\\mu$ = {:.2f}, $\\sigma$ = {:.2f}\".format(mu, std))\n",
    "    plt.xlabel('Value'.upper())\n",
    "    plt.ylabel('Density'.upper())\n",
    "    plt.grid(True)\n",
    "    \n",
    "    # Save the figure as a PDF\n",
    "    plt.savefig(filename, format='pdf', bbox_inches='tight')\n",
    "    # plt.close()\n",
    "\n",
    "\n",
    "\n",
    "# Plot histograms with Gaussian fits for the last epoch of S and W and save as PDF\n",
    "plot_histogram_gaussian_save(data_S_last_epoch, title='S Matrix', color='blue', filename=s_matrix_pdf_path)\n",
    "plot_histogram_gaussian_save(data_W_last_epoch, title='W Matrix', color='salmon', filename=w_matrix_pdf_path)\n",
    "\n",
    "# Return the file paths\n",
    "s_matrix_pdf_path, w_matrix_pdf_path"
   ]
  }
 ],
 "metadata": {
  "kernelspec": {
   "display_name": ".venv",
   "language": "python",
   "name": "python3"
  },
  "language_info": {
   "codemirror_mode": {
    "name": "ipython",
    "version": 3
   },
   "file_extension": ".py",
   "mimetype": "text/x-python",
   "name": "python",
   "nbconvert_exporter": "python",
   "pygments_lexer": "ipython3",
   "version": "3.12.1"
  }
 },
 "nbformat": 4,
 "nbformat_minor": 2
}
