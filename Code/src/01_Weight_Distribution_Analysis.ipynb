{
 "cells": [
  {
   "cell_type": "code",
   "execution_count": null,
   "metadata": {},
   "outputs": [],
   "source": [
    "import numpy as np\n",
    "import matplotlib.pyplot as plt\n",
    "import scipy.linalg as LA\n",
    "import scipy.io"
   ]
  },
  {
   "cell_type": "code",
   "execution_count": null,
   "metadata": {},
   "outputs": [],
   "source": [
    "W = scipy.io.loadmat('../weights/analytic_D_m70_n100.mat')\n",
    "W = np.array(W['X'])\n",
    "\n",
    "D = scipy.io.loadmat('../weights/D_m70_n100.mat')\n",
    "D = np.array(D['D'])\n",
    "\n",
    "m, n = D.shape\n",
    "S_GAP = np.eye(n) - D.T @ LA.inv(D @ D.T) @ D\n",
    "S_ISTA = np.eye(n) - (1 / LA.norm(D.T @ D, 2)) * D.T @ D\n",
    "S_ALISTA = np.eye(n) - W.T @ D\n",
    "\n",
    "S_LISTA_list = np.load(r'../weights/S.npy')\n",
    "S_LISTA = S_LISTA_list[-1]\n",
    "\n",
    "s_matrix_dict = {'ISTA': S_ISTA, 'GAP': S_GAP,\n",
    "                 'ALISTA': S_ALISTA, 'LISTA': S_LISTA}\n",
    "\n",
    "FILE_PATH = '../figures/01_S_Matrix/'"
   ]
  },
  {
   "cell_type": "code",
   "execution_count": null,
   "metadata": {},
   "outputs": [],
   "source": [
    "def print_min_max(title_text, matrix):\n",
    "    print(f\"{title_text} Min: {np.min(matrix)}, Max: {np.max(matrix)}\")\n",
    "\n",
    "\n",
    "for title_text, matrix in s_matrix_dict.items():\n",
    "    print_min_max(title_text, matrix)"
   ]
  },
  {
   "cell_type": "code",
   "execution_count": null,
   "metadata": {},
   "outputs": [],
   "source": [
    "MIN = np.min(list(s_matrix_dict.values()))\n",
    "MAX = np.max(list(s_matrix_dict.values()))\n",
    "MIN, MAX"
   ]
  },
  {
   "cell_type": "code",
   "execution_count": null,
   "metadata": {},
   "outputs": [],
   "source": [
    "np.diag(s_matrix_dict['LISTA'])"
   ]
  },
  {
   "cell_type": "code",
   "execution_count": null,
   "metadata": {},
   "outputs": [],
   "source": [
    "s_matrix_dict['neg_LISTA'] = -s_matrix_dict['LISTA']"
   ]
  },
  {
   "cell_type": "code",
   "execution_count": null,
   "metadata": {},
   "outputs": [],
   "source": [
    "def plot_matrix_scienceplots(matrix, filename, title=None, vmin=MIN, vmax=MAX):\n",
    "    fig = plt.figure(figsize=(12, 6))\n",
    "    plt.axis('off')\n",
    "    plt.tick_params(left = False, right = False , labelleft = False , \n",
    "                labelbottom = False, bottom = False) \n",
    "    ax = plt.gca()\n",
    "    cax = ax.imshow(matrix, cmap='gray', vmin=vmin, vmax=vmax)\n",
    "    # fig.colorbar(cax)\n",
    "    if title:\n",
    "        ax.set_title(title)\n",
    "    plt.savefig(filename, format='pdf', bbox_inches='tight')\n",
    "    plt.close()\n",
    "\n",
    "\n",
    "for title_text, matrix in s_matrix_dict.items():\n",
    "    filename = FILE_PATH + \"S_Matrix_\" + title_text + \".pdf\"\n",
    "    plot_matrix_scienceplots(matrix, filename)\n",
    "    # plot_matrix_scienceplots(matrix, filename, title_text)"
   ]
  }
 ],
 "metadata": {
  "kernelspec": {
   "display_name": ".venv",
   "language": "python",
   "name": "python3"
  },
  "language_info": {
   "codemirror_mode": {
    "name": "ipython",
    "version": 3
   },
   "file_extension": ".py",
   "mimetype": "text/x-python",
   "name": "python",
   "nbconvert_exporter": "python",
   "pygments_lexer": "ipython3",
   "version": "3.11.7"
  }
 },
 "nbformat": 4,
 "nbformat_minor": 2
}
