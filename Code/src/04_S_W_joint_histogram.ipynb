{
 "cells": [
  {
   "cell_type": "code",
   "execution_count": null,
   "metadata": {},
   "outputs": [],
   "source": [
    "import numpy as np\n",
    "import matplotlib.pyplot as plt\n",
    "import seaborn as sns\n",
    "from scipy import stats\n",
    "from tqdm import tqdm\n",
    "import os\n",
    "import cv2\n",
    "\n",
    "import scienceplots\n",
    "\n",
    "\n",
    "plt.style.use(['science', 'ieee'])\n",
    "plt.rcParams.update({\"font.family\": \"sans\", \"font.serif\": [\n",
    "                    \"cm\"], \"mathtext.fontset\": \"cm\", \"font.size\": 22})"
   ]
  },
  {
   "cell_type": "code",
   "execution_count": null,
   "metadata": {},
   "outputs": [],
   "source": [
    "W_list = np.load(f'./data/W_constant.npy')\n",
    "S_list = np.load(f'./data/S_constant.npy')\n",
    "time_list = np.load('./data/time_list_constant.npy')\n",
    "model = \"constant\"\n",
    "output_dir = './videos/histogram_videos_fps3'\n",
    "os.makedirs(output_dir, exist_ok=True)\n",
    "\n",
    "# Placeholder for filenames to be generated\n",
    "filenames = []\n",
    "\n",
    "xmax = max(np.max(S_list), np.max(W_list))\n",
    "xmin = min(np.min(S_list), np.min(W_list))\n",
    "\n",
    "# Iterate over the list of S and W matrices to plot histograms\n",
    "for i in tqdm(range(len(S_list))):\n",
    "    # Flatten the arrays\n",
    "    S_flat = S_list[i].reshape(-1)\n",
    "    W_flat = W_list[i].reshape(-1)\n",
    "\n",
    "    # Create the histogram plot\n",
    "    plt.figure(figsize=(12, 6))\n",
    "    sns.histplot(S_flat, bins=128, kde=False, color='blue', stat='density', linewidth=0, alpha=0.5, label='S')\n",
    "    sns.histplot(W_flat, bins=128, kde=False, color='salmon', stat='density', linewidth=0, alpha=0.5, label='W')\n",
    "\n",
    "    # Fit and plot the normal distribution for S\n",
    "    mu_s, std_s = stats.norm.fit(S_flat)\n",
    "    x = np.linspace(xmin, xmax, 100)\n",
    "    p_s = stats.norm.pdf(x, mu_s, std_s)\n",
    "    plt.plot(x, p_s, 'b--', linewidth=1, label=f'S Fit ($\\mu$={mu_s:.2f}, $\\sigma$={std_s:.2f})')\n",
    "\n",
    "    # Fit and plot the normal distribution for W\n",
    "    mu_w, std_w = stats.norm.fit(W_flat)\n",
    "    p_w = stats.norm.pdf(x, mu_w, std_w)\n",
    "    plt.plot(x, p_w, 'r--', linewidth=1, label=f'W Fit ($\\mu$={mu_w:.2f}, $\\sigma$={std_w:.2f})')\n",
    "\n",
    "    # Format the time string with padding\n",
    "    str_time = f'{round(float(time_list[i]), 4):0>8.3f}'\n",
    "\n",
    "    # Set the title with the epoch, time, and fit results\n",
    "    plt.title(f\"Epoch:{str(i).zfill(2)}, Time:{str_time} seconds\\nFIT RESULTS: S $\\mu$ = {mu_s:.2f}, S $\\sigma$ = {std_s:.2f}, W $\\mu$ = {mu_w:.2f}, W $\\sigma$ = {std_w:.2f}\")\n",
    "    plt.xlabel('VALUE')\n",
    "    plt.ylabel('DENSITY')\n",
    "    plt.grid(True)\n",
    "    plt.legend()\n",
    "    plt.ylim(0, 17)\n",
    "\n",
    "    # Save each frame as a temporary PNG file\n",
    "    filename = f'{output_dir}/S_W_{model}_ep_{str(i).zfill(2)}.png'\n",
    "    plt.savefig(filename)\n",
    "    plt.close()\n",
    "    # plt.show()\n",
    "    # Append the filename to the list\n",
    "    filenames.append(filename)\n",
    "\n",
    "# Output the first filename to check if the image is saved correctly\n",
    "filenames[0]\n"
   ]
  },
  {
   "cell_type": "code",
   "execution_count": null,
   "metadata": {},
   "outputs": [],
   "source": [
    "fourcc = cv2.VideoWriter_fourcc(*'mp4v')  # or 'x264' if you have it\n",
    "fps = 3  # Frames per second\n",
    "\n",
    "# Determine the resolution of the video\n",
    "# Read the first image to determine the frame size\n",
    "first_image_path = filenames[0]\n",
    "frame = cv2.imread(first_image_path)\n",
    "height, width, layers = frame.shape\n",
    "frame_size = (width, height)\n",
    "\n",
    "# Initialize the video writer\n",
    "video_filename = f'./S_W_histograms.mp4'  # Path where the MP4 video will be saved\n",
    "out = cv2.VideoWriter(video_filename, fourcc, fps, frame_size)\n",
    "\n",
    "for filename in tqdm(filenames):\n",
    "    frame = cv2.imread(filename)\n",
    "    if frame is None:\n",
    "        raise Exception\n",
    "    out.write(frame)  # Write out the frame\n",
    "\n",
    "out.release()\n",
    "\n",
    "video_filename"
   ]
  },
  {
   "cell_type": "code",
   "execution_count": null,
   "metadata": {},
   "outputs": [],
   "source": [
    "cv2.imread(filenames[99])"
   ]
  },
  {
   "cell_type": "code",
   "execution_count": null,
   "metadata": {},
   "outputs": [],
   "source": []
  }
 ],
 "metadata": {
  "kernelspec": {
   "display_name": "diffuser_cam",
   "language": "python",
   "name": "python3"
  },
  "language_info": {
   "codemirror_mode": {
    "name": "ipython",
    "version": 3
   },
   "file_extension": ".py",
   "mimetype": "text/x-python",
   "name": "python",
   "nbconvert_exporter": "python",
   "pygments_lexer": "ipython3",
   "version": "3.12.1"
  }
 },
 "nbformat": 4,
 "nbformat_minor": 2
}
